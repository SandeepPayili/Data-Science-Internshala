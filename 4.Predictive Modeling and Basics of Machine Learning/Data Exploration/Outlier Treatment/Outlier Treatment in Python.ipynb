{
 "cells": [
  {
   "cell_type": "code",
   "execution_count": 1,
   "metadata": {},
   "outputs": [],
   "source": [
    "#importing libraries\n",
    "\n",
    "import pandas as pd\n",
    "import matplotlib.pyplot as plt\n",
    "%matplotlib inline \n",
    "import numpy as np"
   ]
  },
  {
   "cell_type": "code",
   "execution_count": 2,
   "metadata": {},
   "outputs": [],
   "source": [
    "#reading the dataset into pandas\n",
    "\n",
    "df=pd.read_csv(\"data.csv\")"
   ]
  },
  {
   "cell_type": "code",
   "execution_count": 3,
   "metadata": {},
   "outputs": [
    {
     "data": {
      "text/html": [
       "<div>\n",
       "<style scoped>\n",
       "    .dataframe tbody tr th:only-of-type {\n",
       "        vertical-align: middle;\n",
       "    }\n",
       "\n",
       "    .dataframe tbody tr th {\n",
       "        vertical-align: top;\n",
       "    }\n",
       "\n",
       "    .dataframe thead th {\n",
       "        text-align: right;\n",
       "    }\n",
       "</style>\n",
       "<table border=\"1\" class=\"dataframe\">\n",
       "  <thead>\n",
       "    <tr style=\"text-align: right;\">\n",
       "      <th></th>\n",
       "      <th>PassengerId</th>\n",
       "      <th>Survived</th>\n",
       "      <th>Pclass</th>\n",
       "      <th>Name</th>\n",
       "      <th>Sex</th>\n",
       "      <th>Age</th>\n",
       "      <th>SibSp</th>\n",
       "      <th>Parch</th>\n",
       "      <th>Ticket</th>\n",
       "      <th>Fare</th>\n",
       "      <th>Cabin</th>\n",
       "      <th>Embarked</th>\n",
       "    </tr>\n",
       "  </thead>\n",
       "  <tbody>\n",
       "    <tr>\n",
       "      <th>0</th>\n",
       "      <td>1</td>\n",
       "      <td>0</td>\n",
       "      <td>3</td>\n",
       "      <td>Braund, Mr. Owen Harris</td>\n",
       "      <td>male</td>\n",
       "      <td>22.0</td>\n",
       "      <td>1</td>\n",
       "      <td>0</td>\n",
       "      <td>A/5 21171</td>\n",
       "      <td>7.2500</td>\n",
       "      <td>NaN</td>\n",
       "      <td>S</td>\n",
       "    </tr>\n",
       "    <tr>\n",
       "      <th>1</th>\n",
       "      <td>2</td>\n",
       "      <td>1</td>\n",
       "      <td>1</td>\n",
       "      <td>Cumings, Mrs. John Bradley (Florence Briggs Th...</td>\n",
       "      <td>female</td>\n",
       "      <td>38.0</td>\n",
       "      <td>1</td>\n",
       "      <td>0</td>\n",
       "      <td>PC 17599</td>\n",
       "      <td>71.2833</td>\n",
       "      <td>C85</td>\n",
       "      <td>C</td>\n",
       "    </tr>\n",
       "    <tr>\n",
       "      <th>2</th>\n",
       "      <td>3</td>\n",
       "      <td>1</td>\n",
       "      <td>3</td>\n",
       "      <td>Heikkinen, Miss. Laina</td>\n",
       "      <td>female</td>\n",
       "      <td>26.0</td>\n",
       "      <td>0</td>\n",
       "      <td>0</td>\n",
       "      <td>STON/O2. 3101282</td>\n",
       "      <td>7.9250</td>\n",
       "      <td>NaN</td>\n",
       "      <td>S</td>\n",
       "    </tr>\n",
       "    <tr>\n",
       "      <th>3</th>\n",
       "      <td>4</td>\n",
       "      <td>1</td>\n",
       "      <td>1</td>\n",
       "      <td>Futrelle, Mrs. Jacques Heath (Lily May Peel)</td>\n",
       "      <td>female</td>\n",
       "      <td>35.0</td>\n",
       "      <td>1</td>\n",
       "      <td>0</td>\n",
       "      <td>113803</td>\n",
       "      <td>53.1000</td>\n",
       "      <td>C123</td>\n",
       "      <td>S</td>\n",
       "    </tr>\n",
       "    <tr>\n",
       "      <th>4</th>\n",
       "      <td>5</td>\n",
       "      <td>0</td>\n",
       "      <td>3</td>\n",
       "      <td>Allen, Mr. William Henry</td>\n",
       "      <td>male</td>\n",
       "      <td>35.0</td>\n",
       "      <td>0</td>\n",
       "      <td>0</td>\n",
       "      <td>373450</td>\n",
       "      <td>8.0500</td>\n",
       "      <td>NaN</td>\n",
       "      <td>S</td>\n",
       "    </tr>\n",
       "  </tbody>\n",
       "</table>\n",
       "</div>"
      ],
      "text/plain": [
       "   PassengerId  Survived  Pclass  \\\n",
       "0            1         0       3   \n",
       "1            2         1       1   \n",
       "2            3         1       3   \n",
       "3            4         1       1   \n",
       "4            5         0       3   \n",
       "\n",
       "                                                Name     Sex   Age  SibSp  \\\n",
       "0                            Braund, Mr. Owen Harris    male  22.0      1   \n",
       "1  Cumings, Mrs. John Bradley (Florence Briggs Th...  female  38.0      1   \n",
       "2                             Heikkinen, Miss. Laina  female  26.0      0   \n",
       "3       Futrelle, Mrs. Jacques Heath (Lily May Peel)  female  35.0      1   \n",
       "4                           Allen, Mr. William Henry    male  35.0      0   \n",
       "\n",
       "   Parch            Ticket     Fare Cabin Embarked  \n",
       "0      0         A/5 21171   7.2500   NaN        S  \n",
       "1      0          PC 17599  71.2833   C85        C  \n",
       "2      0  STON/O2. 3101282   7.9250   NaN        S  \n",
       "3      0            113803  53.1000  C123        S  \n",
       "4      0            373450   8.0500   NaN        S  "
      ]
     },
     "execution_count": 3,
     "metadata": {},
     "output_type": "execute_result"
    }
   ],
   "source": [
    "#first few rows of the dataset\n",
    "\n",
    "df.head()"
   ]
  },
  {
   "cell_type": "markdown",
   "metadata": {},
   "source": [
    "# Univariate outlier detection"
   ]
  },
  {
   "cell_type": "code",
   "execution_count": 4,
   "metadata": {},
   "outputs": [
    {
     "data": {
      "text/plain": [
       "<AxesSubplot:>"
      ]
     },
     "execution_count": 4,
     "metadata": {},
     "output_type": "execute_result"
    },
    {
     "data": {
      "image/png": "[encoded data removed]",
      "text/plain": [
       "<Figure size 432x288 with 1 Axes>"
      ]
     },
     "metadata": {
      "needs_background": "light"
     },
     "output_type": "display_data"
    }
   ],
   "source": [
    "df['Age'].plot.box()"
   ]
  },
  {
   "cell_type": "markdown",
   "metadata": {},
   "source": [
    "# Bivariate outlier detection"
   ]
  },
  {
   "cell_type": "code",
   "execution_count": 5,
   "metadata": {},
   "outputs": [
    {
     "data": {
      "text/plain": [
       "<AxesSubplot:xlabel='Age', ylabel='Fare'>"
      ]
     },
     "execution_count": 5,
     "metadata": {},
     "output_type": "execute_result"
    },
    {
     "data": {
      "image/png": "[encoded data removed]",
      "text/plain": [
       "<Figure size 432x288 with 1 Axes>"
      ]
     },
     "metadata": {
      "needs_background": "light"
     },
     "output_type": "display_data"
    }
   ],
   "source": [
    "df.plot.scatter('Age', 'Fare')"
   ]
  },
  {
   "cell_type": "markdown",
   "metadata": {},
   "source": [
    "# Removing outlier from the dateset"
   ]
  },
  {
   "cell_type": "code",
   "execution_count": 6,
   "metadata": {},
   "outputs": [],
   "source": [
    "df=df[df['Fare']<300]"
   ]
  },
  {
   "cell_type": "markdown",
   "metadata": {},
   "source": [
    "# Replacing outlier in age with the mean age value"
   ]
  },
  {
   "cell_type": "code",
   "execution_count": 7,
   "metadata": {},
   "outputs": [],
   "source": [
    "df.loc[df['Age']>65, 'Age']=np.mean(df['Age'])"
   ]
  },
  {
   "cell_type": "code",
   "execution_count": 8,
   "metadata": {},
   "outputs": [
    {
     "data": {
      "text/plain": [
       "0      22.0\n",
       "1      38.0\n",
       "2      26.0\n",
       "3      35.0\n",
       "4      35.0\n",
       "       ... \n",
       "886    27.0\n",
       "887    19.0\n",
       "888     NaN\n",
       "889    26.0\n",
       "890    32.0\n",
       "Name: Age, Length: 888, dtype: float64"
      ]
     },
     "execution_count": 8,
     "metadata": {},
     "output_type": "execute_result"
    }
   ],
   "source": [
    "df['Age']"
   ]
  },
  {
   "cell_type": "code",
   "execution_count": 9,
   "metadata": {},
   "outputs": [
    {
     "data": {
      "text/plain": [
       "array([22.        , 38.        , 26.        , 35.        , 35.        ,\n",
       "               nan, 54.        ,  2.        , 27.        , 14.        ,\n",
       "        4.        , 58.        , 20.        , 39.        , 14.        ,\n",
       "       55.        ,  2.        ,         nan, 31.        ,         nan,\n",
       "       35.        , 34.        , 15.        , 28.        ,  8.        ,\n",
       "       38.        ,         nan, 19.        ,         nan,         nan,\n",
       "       40.        ,         nan,         nan, 29.67534459, 28.        ,\n",
       "       42.        ,         nan, 21.        , 18.        , 14.        ,\n",
       "       40.        , 27.        ,         nan,  3.        , 19.        ,\n",
       "               nan,         nan,         nan,         nan, 18.        ,\n",
       "        7.        , 21.        , 49.        , 29.        , 65.        ,\n",
       "               nan, 21.        , 28.5       ,  5.        , 11.        ,\n",
       "       22.        , 38.        , 45.        ,  4.        ,         nan,\n",
       "               nan, 29.        , 19.        , 17.        , 26.        ,\n",
       "       32.        , 16.        , 21.        , 26.        , 32.        ,\n",
       "       25.        ,         nan,         nan,  0.83      , 30.        ,\n",
       "       22.        , 29.        ,         nan, 28.        , 17.        ,\n",
       "       33.        , 16.        ,         nan, 23.        , 24.        ,\n",
       "       29.        , 20.        , 46.        , 26.        , 59.        ,\n",
       "               nan, 29.67534459, 23.        , 34.        , 34.        ,\n",
       "       28.        ,         nan, 21.        , 33.        , 37.        ,\n",
       "       28.        , 21.        ,         nan, 38.        ,         nan,\n",
       "       47.        , 14.5       , 22.        , 20.        , 17.        ,\n",
       "       21.        , 29.67534459, 29.        , 24.        ,  2.        ,\n",
       "       21.        ,         nan, 32.5       , 32.5       , 54.        ,\n",
       "       12.        ,         nan, 24.        ,         nan, 45.        ,\n",
       "       33.        , 20.        , 47.        , 29.        , 25.        ,\n",
       "       23.        , 19.        , 37.        , 16.        , 24.        ,\n",
       "               nan, 22.        , 24.        , 19.        , 18.        ,\n",
       "       19.        , 27.        ,  9.        , 36.5       , 42.        ,\n",
       "       51.        , 22.        , 55.5       , 40.5       ,         nan,\n",
       "       51.        , 16.        , 30.        ,         nan,         nan,\n",
       "       44.        , 40.        , 26.        , 17.        ,  1.        ,\n",
       "        9.        ,         nan, 45.        ,         nan, 28.        ,\n",
       "       61.        ,  4.        ,  1.        , 21.        , 56.        ,\n",
       "       18.        ,         nan, 50.        , 30.        , 36.        ,\n",
       "               nan,         nan,  9.        ,  1.        ,  4.        ,\n",
       "               nan,         nan, 45.        , 40.        , 36.        ,\n",
       "       32.        , 19.        , 19.        ,  3.        , 44.        ,\n",
       "       58.        ,         nan, 42.        ,         nan, 24.        ,\n",
       "       28.        ,         nan, 34.        , 45.5       , 18.        ,\n",
       "        2.        , 32.        , 26.        , 16.        , 40.        ,\n",
       "       24.        , 35.        , 22.        , 30.        ,         nan,\n",
       "       31.        , 27.        , 42.        , 32.        , 30.        ,\n",
       "       16.        , 27.        , 51.        ,         nan, 38.        ,\n",
       "       22.        , 19.        , 20.5       , 18.        ,         nan,\n",
       "       35.        , 29.        , 59.        ,  5.        , 24.        ,\n",
       "               nan, 44.        ,  8.        , 19.        , 33.        ,\n",
       "               nan,         nan, 29.        , 22.        , 30.        ,\n",
       "       44.        , 25.        , 24.        , 37.        , 54.        ,\n",
       "               nan, 29.        , 62.        , 30.        , 41.        ,\n",
       "       29.        ,         nan, 30.        , 50.        ,         nan,\n",
       "        3.        , 52.        , 40.        ,         nan, 36.        ,\n",
       "       16.        , 25.        , 58.        , 35.        ,         nan,\n",
       "       25.        , 41.        , 37.        ,         nan, 63.        ,\n",
       "       45.        ,         nan,  7.        , 35.        , 65.        ,\n",
       "       28.        , 16.        , 19.        ,         nan, 33.        ,\n",
       "       30.        , 22.        , 42.        , 22.        , 26.        ,\n",
       "       19.        , 36.        , 24.        , 24.        ,         nan,\n",
       "       23.5       ,  2.        ,         nan, 50.        ,         nan,\n",
       "               nan, 19.        ,         nan,         nan,  0.92      ,\n",
       "               nan, 17.        , 30.        , 30.        , 24.        ,\n",
       "       18.        , 26.        , 28.        , 43.        , 26.        ,\n",
       "       24.        , 54.        , 31.        , 40.        , 22.        ,\n",
       "       27.        , 30.        , 22.        ,         nan, 36.        ,\n",
       "       61.        , 36.        , 31.        , 16.        ,         nan,\n",
       "       45.5       , 38.        , 16.        ,         nan,         nan,\n",
       "       29.        , 41.        , 45.        , 45.        ,  2.        ,\n",
       "       24.        , 28.        , 25.        , 36.        , 24.        ,\n",
       "       40.        ,         nan,  3.        , 42.        , 23.        ,\n",
       "               nan, 15.        , 25.        ,         nan, 28.        ,\n",
       "       22.        , 38.        ,         nan,         nan, 40.        ,\n",
       "       29.        , 45.        , 35.        ,         nan, 30.        ,\n",
       "       60.        ,         nan,         nan, 24.        , 25.        ,\n",
       "       18.        , 19.        , 22.        ,  3.        ,         nan,\n",
       "       22.        , 27.        , 20.        , 19.        , 42.        ,\n",
       "        1.        , 32.        , 35.        ,         nan, 18.        ,\n",
       "        1.        , 36.        ,         nan, 17.        , 36.        ,\n",
       "       21.        , 28.        , 23.        , 24.        , 22.        ,\n",
       "       31.        , 46.        , 23.        , 28.        , 39.        ,\n",
       "       26.        , 21.        , 28.        , 20.        , 34.        ,\n",
       "       51.        ,  3.        , 21.        ,         nan,         nan,\n",
       "               nan, 33.        ,         nan, 44.        ,         nan,\n",
       "       34.        , 18.        , 30.        , 10.        ,         nan,\n",
       "       21.        , 29.        , 28.        , 18.        ,         nan,\n",
       "       28.        , 19.        ,         nan, 32.        , 28.        ,\n",
       "               nan, 42.        , 17.        , 50.        , 14.        ,\n",
       "       21.        , 24.        , 64.        , 31.        , 45.        ,\n",
       "       20.        , 25.        , 28.        ,         nan,  4.        ,\n",
       "       13.        , 34.        ,  5.        , 52.        , 36.        ,\n",
       "               nan, 30.        , 49.        ,         nan, 29.        ,\n",
       "       65.        ,         nan, 50.        ,         nan, 48.        ,\n",
       "       34.        , 47.        , 48.        ,         nan, 38.        ,\n",
       "               nan, 56.        ,         nan,  0.75      ,         nan,\n",
       "       38.        , 33.        , 23.        , 22.        ,         nan,\n",
       "       34.        , 29.        , 22.        ,  2.        ,  9.        ,\n",
       "               nan, 50.        , 63.        , 25.        ,         nan,\n",
       "       35.        , 58.        , 30.        ,  9.        ,         nan,\n",
       "       21.        , 55.        , 29.67534459, 21.        ,         nan,\n",
       "       54.        ,         nan, 25.        , 24.        , 17.        ,\n",
       "       21.        ,         nan, 37.        , 16.        , 18.        ,\n",
       "       33.        ,         nan, 28.        , 26.        , 29.        ,\n",
       "               nan, 36.        , 54.        , 24.        , 47.        ,\n",
       "       34.        ,         nan, 36.        , 32.        , 30.        ,\n",
       "       22.        ,         nan, 44.        ,         nan, 40.5       ,\n",
       "       50.        ,         nan, 39.        , 23.        ,  2.        ,\n",
       "               nan, 17.        ,         nan, 30.        ,  7.        ,\n",
       "       45.        , 30.        ,         nan, 22.        , 36.        ,\n",
       "        9.        , 11.        , 32.        , 50.        , 64.        ,\n",
       "       19.        ,         nan, 33.        ,  8.        , 17.        ,\n",
       "       27.        ,         nan, 22.        , 22.        , 62.        ,\n",
       "       48.        ,         nan, 39.        , 36.        ,         nan,\n",
       "       40.        , 28.        ,         nan,         nan, 24.        ,\n",
       "       19.        , 29.        ,         nan, 32.        , 62.        ,\n",
       "       53.        , 36.        ,         nan, 16.        , 19.        ,\n",
       "       34.        , 39.        ,         nan, 32.        , 25.        ,\n",
       "       39.        , 54.        , 36.        ,         nan, 18.        ,\n",
       "       47.        , 60.        , 22.        ,         nan, 35.        ,\n",
       "       52.        , 47.        ,         nan, 37.        , 36.        ,\n",
       "               nan, 49.        ,         nan, 49.        , 24.        ,\n",
       "               nan,         nan, 44.        , 35.        , 36.        ,\n",
       "       30.        , 27.        , 22.        , 40.        , 39.        ,\n",
       "               nan,         nan,         nan, 35.        , 24.        ,\n",
       "       34.        , 26.        ,  4.        , 26.        , 27.        ,\n",
       "       42.        , 20.        , 21.        , 21.        , 61.        ,\n",
       "       57.        , 21.        , 26.        ,         nan, 29.67534459,\n",
       "       51.        , 32.        ,         nan,  9.        , 28.        ,\n",
       "       32.        , 31.        , 41.        ,         nan, 20.        ,\n",
       "       24.        ,  2.        ,         nan,  0.75      , 48.        ,\n",
       "       19.        , 56.        ,         nan, 23.        ,         nan,\n",
       "       18.        , 21.        ,         nan, 18.        , 24.        ,\n",
       "               nan, 32.        , 23.        , 58.        , 50.        ,\n",
       "       40.        , 47.        , 36.        , 20.        , 32.        ,\n",
       "       25.        ,         nan, 43.        ,         nan, 40.        ,\n",
       "       31.        , 29.67534459, 31.        ,         nan, 18.        ,\n",
       "       24.5       , 18.        , 43.        ,         nan, 27.        ,\n",
       "       20.        , 14.        , 60.        , 25.        , 14.        ,\n",
       "       19.        , 18.        , 15.        , 31.        ,  4.        ,\n",
       "               nan, 25.        , 60.        , 52.        , 44.        ,\n",
       "               nan, 49.        , 42.        , 18.        , 35.        ,\n",
       "       18.        , 25.        , 26.        , 39.        , 45.        ,\n",
       "       42.        , 22.        ,         nan, 24.        ,         nan,\n",
       "       48.        , 29.        , 52.        , 19.        , 38.        ,\n",
       "       27.        ,         nan, 33.        ,  6.        , 17.        ,\n",
       "       34.        , 50.        , 27.        , 20.        , 30.        ,\n",
       "               nan, 25.        , 25.        , 29.        , 11.        ,\n",
       "               nan, 23.        , 23.        , 28.5       , 48.        ,\n",
       "               nan,         nan,         nan, 36.        , 21.        ,\n",
       "       24.        , 31.        , 29.67534459, 16.        , 30.        ,\n",
       "       19.        , 31.        ,  4.        ,  6.        , 33.        ,\n",
       "       23.        , 48.        ,  0.67      , 28.        , 18.        ,\n",
       "       34.        , 33.        ,         nan, 41.        , 20.        ,\n",
       "       36.        , 16.        , 51.        ,         nan, 30.5       ,\n",
       "               nan, 32.        , 24.        , 48.        , 57.        ,\n",
       "               nan, 54.        , 18.        ,         nan,  5.        ,\n",
       "               nan, 43.        , 13.        , 17.        , 29.        ,\n",
       "               nan, 25.        , 25.        , 18.        ,  8.        ,\n",
       "        1.        , 46.        ,         nan, 16.        ,         nan,\n",
       "               nan, 25.        , 39.        , 49.        , 31.        ,\n",
       "       30.        , 30.        , 34.        , 31.        , 11.        ,\n",
       "        0.42      , 27.        , 31.        , 39.        , 18.        ,\n",
       "       39.        , 33.        , 26.        , 39.        , 35.        ,\n",
       "        6.        , 30.5       ,         nan, 23.        , 31.        ,\n",
       "       43.        , 10.        , 52.        , 27.        , 38.        ,\n",
       "       27.        ,  2.        ,         nan,         nan,  1.        ,\n",
       "               nan, 62.        , 15.        ,  0.83      ,         nan,\n",
       "       23.        , 18.        , 39.        , 21.        ,         nan,\n",
       "       32.        ,         nan, 20.        , 16.        , 30.        ,\n",
       "       34.5       , 17.        , 42.        ,         nan, 35.        ,\n",
       "       28.        ,         nan,  4.        , 29.67534459,  9.        ,\n",
       "       16.        , 44.        , 18.        , 45.        , 51.        ,\n",
       "       24.        ,         nan, 41.        , 21.        , 48.        ,\n",
       "               nan, 24.        , 42.        , 27.        , 31.        ,\n",
       "               nan,  4.        , 26.        , 47.        , 33.        ,\n",
       "       47.        , 28.        , 15.        , 20.        , 19.        ,\n",
       "               nan, 56.        , 25.        , 33.        , 22.        ,\n",
       "       28.        , 25.        , 39.        , 27.        , 19.        ,\n",
       "               nan, 26.        , 32.        ])"
      ]
     },
     "execution_count": 9,
     "metadata": {},
     "output_type": "execute_result"
    }
   ],
   "source": [
    "df['Age'].values"
   ]
  },
  {
   "cell_type": "code",
   "execution_count": null,
   "metadata": {},
   "outputs": [],
   "source": []
  }
 ],
 "metadata": {
  "kernelspec": {
   "display_name": "Python 3 (ipykernel)",
   "language": "python",
   "name": "python3"
  },
  "language_info": {
   "codemirror_mode": {
    "name": "ipython",
    "version": 3
   },
   "file_extension": ".py",
   "mimetype": "text/x-python",
   "name": "python",
   "nbconvert_exporter": "python",
   "pygments_lexer": "ipython3",
   "version": "3.9.12"
  }
 },
 "nbformat": 4,
 "nbformat_minor": 2
}
